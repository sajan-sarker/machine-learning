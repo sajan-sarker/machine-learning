{
  "nbformat": 4,
  "nbformat_minor": 0,
  "metadata": {
    "colab": {
      "provenance": [],
      "mount_file_id": "13oyB-wuYgHP4YzV64IrmpOUfa4OSBH5s",
      "authorship_tag": "ABX9TyOlNNuUB2JnT2tSOAunS/TN",
      "include_colab_link": true
    },
    "kernelspec": {
      "name": "python3",
      "display_name": "Python 3"
    },
    "language_info": {
      "name": "python"
    }
  },
  "cells": [
    {
      "cell_type": "markdown",
      "metadata": {
        "id": "view-in-github",
        "colab_type": "text"
      },
      "source": [
        "<a href=\"https://colab.research.google.com/github/sajan-sarker/machine-learning/blob/main/cost_function.ipynb\" target=\"_parent\"><img src=\"https://colab.research.google.com/assets/colab-badge.svg\" alt=\"Open In Colab\"/></a>"
      ]
    },
    {
      "cell_type": "code",
      "source": [
        "from google.colab import drive\n",
        "drive.mount('/content/drive')"
      ],
      "metadata": {
        "colab": {
          "base_uri": "https://localhost:8080/"
        },
        "id": "55vCqo8b33W5",
        "outputId": "9617e49d-a5f5-4a5f-bf40-9620a19690dc"
      },
      "execution_count": 38,
      "outputs": [
        {
          "output_type": "stream",
          "name": "stdout",
          "text": [
            "Drive already mounted at /content/drive; to attempt to forcibly remount, call drive.mount(\"/content/drive\", force_remount=True).\n"
          ]
        }
      ]
    },
    {
      "cell_type": "code",
      "source": [
        "import numpy as np\n",
        "import matplotlib.pyplot as plt"
      ],
      "metadata": {
        "id": "lBOVTITzJVIp"
      },
      "execution_count": 39,
      "outputs": []
    },
    {
      "cell_type": "code",
      "source": [
        "x_train = np.array([1.0, 1.7, 2.0, 2.5, 3.0, 3.2])\n",
        "y_train = np.array([250, 300, 480,  430,   630, 730,])"
      ],
      "metadata": {
        "id": "fANkgdTAKRrn"
      },
      "execution_count": 40,
      "outputs": []
    },
    {
      "cell_type": "markdown",
      "source": [
        "Cost function with one variable is:\n",
        "  $$J(w,b) = \\frac{1}{2m} \\sum\\limits_{i = 0}^{m-1} (f_{w,b}(x^{(i)}) - y^{(i)})^2 $$\n",
        "\n",
        "and\n",
        "  $$f_{w,b}(x^{(i)}) = wx^{(i)} + b $$\n",
        "\n",
        "  =>\n",
        "  $$J(w,b) =  \\frac{1}{2} \\sum\\limits_{i = 0}^{m-1} (wx^{(i)} + b -y^{(i)})^2 $$"
      ],
      "metadata": {
        "id": "F_eJ4VFjYigs"
      }
    },
    {
      "cell_type": "markdown",
      "source": [
        "x = data\\\n",
        "y = target value\\\n",
        "w = weight\\\n",
        "b = bias\\\n",
        "w, b (scalar) = model parameters"
      ],
      "metadata": {
        "id": "m1tl_guHZ-uF"
      }
    },
    {
      "cell_type": "code",
      "source": [
        "def compute_cost(x, y, w, b):\n",
        "  m = x.shape[0]\n",
        "\n",
        "  cost_sum = 0\n",
        "  for i in range(m):\n",
        "    f_wb = w * x[i] + b\n",
        "    cost = (f_wb - y[i]) ** 2\n",
        "    cost_sum = cost_sum + cost\n",
        "  total = (1/(2*m)) * cost_sum\n",
        "  return total"
      ],
      "metadata": {
        "id": "rP8upeeOYSlw"
      },
      "execution_count": 41,
      "outputs": []
    },
    {
      "cell_type": "code",
      "source": [
        "w = 150\n",
        "b = 100\n",
        "cost = compute_cost(x_train, y_train, w, b)\n",
        "print(cost)"
      ],
      "metadata": {
        "colab": {
          "base_uri": "https://localhost:8080/"
        },
        "id": "kBonRuTSbvpt",
        "outputId": "9932d327-0830-4d96-8fef-6512b8f9d248"
      },
      "execution_count": 42,
      "outputs": [
        {
          "output_type": "stream",
          "name": "stdout",
          "text": [
            "3362.5\n"
          ]
        }
      ]
    },
    {
      "cell_type": "code",
      "source": [
        "# Model prediction value\n",
        "y_predic = w * x_train + b\n",
        "# Plot the data points\n",
        "plt.scatter(x_train, y_train, marker='x', c='r')\n",
        "# Plot the model predicted line\n",
        "plt.plot(x_train, y_predic, color = 'blue', label= f'prediction')\n",
        "# Set the title\n",
        "plt.title(\"Housing Prices\")\n",
        "# Set the y-axis label\n",
        "plt.ylabel('Price (in 1000s of dollars)')\n",
        "# Set the x-axis label\n",
        "plt.xlabel('Size (1000 sqft)')\n",
        "\n",
        "plt.show()"
      ],
      "metadata": {
        "colab": {
          "base_uri": "https://localhost:8080/",
          "height": 472
        },
        "id": "Pz5wXXYkccah",
        "outputId": "bc9236fb-7682-4a02-91b6-503051b29bea"
      },
      "execution_count": 43,
      "outputs": [
        {
          "output_type": "display_data",
          "data": {
            "text/plain": [
              "<Figure size 640x480 with 1 Axes>"
            ],
            "image/png": "[encoded data removed]"
          },
          "metadata": {}
        }
      ]
    }
  ]
}