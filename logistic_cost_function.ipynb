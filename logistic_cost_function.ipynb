{
  "nbformat": 4,
  "nbformat_minor": 0,
  "metadata": {
    "colab": {
      "provenance": [],
      "authorship_tag": "ABX9TyNT5nza4UiolfaKvywJedEu",
      "include_colab_link": true
    },
    "kernelspec": {
      "name": "python3",
      "display_name": "Python 3"
    },
    "language_info": {
      "name": "python"
    }
  },
  "cells": [
    {
      "cell_type": "markdown",
      "metadata": {
        "id": "view-in-github",
        "colab_type": "text"
      },
      "source": [
        "<a href=\"https://colab.research.google.com/github/sajan-sarker/machine-learning/blob/main/logistic_cost_function.ipynb\" target=\"_parent\"><img src=\"https://colab.research.google.com/assets/colab-badge.svg\" alt=\"Open In Colab\"/></a>"
      ]
    },
    {
      "cell_type": "code",
      "execution_count": 1,
      "metadata": {
        "id": "xc82TGx5mCGt"
      },
      "outputs": [],
      "source": [
        "import numpy as np\n",
        "import matplotlib.pyplot as plt\n",
        "from matplotlib.patches import FancyArrowPatch"
      ]
    },
    {
      "cell_type": "markdown",
      "source": [
        "**Dataset**\n",
        "*****"
      ],
      "metadata": {
        "id": "0orkEIo2mUSX"
      }
    },
    {
      "cell_type": "code",
      "source": [
        "X_train = np.array([[0.5, 1.5], [1,1], [1.5, 0.5], [3, 0.5], [2, 2], [1, 2.5]])  #(m,n)\n",
        "y_train = np.array([0, 0, 0, 1, 1, 1])                                           #(m,)"
      ],
      "metadata": {
        "id": "YBQmJ1oSmPg3"
      },
      "execution_count": 2,
      "outputs": []
    },
    {
      "cell_type": "markdown",
      "source": [
        "**Plot Data**\n",
        "*****"
      ],
      "metadata": {
        "id": "ayIVtl1RmZL_"
      }
    },
    {
      "cell_type": "code",
      "source": [
        "def plot_data(X, y, ax):\n",
        "  # Find Indices of Positive and Negative Examples\n",
        "  pos = y == 1\n",
        "  neg = y == 0\n",
        "  pos = pos.reshape(-1,)  #work with 1D or 1D y vectors\n",
        "  neg = neg.reshape(-1,)\n",
        "\n",
        "  # Plot examples\n",
        "  ax.scatter(X[pos, 0], X[pos, 1], marker='x', s=80, c = 'red', label='y=1')\n",
        "  ax.scatter(X[neg, 0], X[neg, 1], marker='o', s=80, label='y=0', facecolors='none', edgecolors='blue', lw=3)\n",
        "  ax.legend(loc='best')"
      ],
      "metadata": {
        "id": "CDrka33ymVBq"
      },
      "execution_count": 3,
      "outputs": []
    },
    {
      "cell_type": "code",
      "source": [
        "fig, ax = plt.subplots(1,1, figsize=(4,4))\n",
        "plot_data(X_train, y_train, ax)\n",
        "\n",
        "# Set both axes to be from 0-4\n",
        "ax.axis([0, 4, 0, 3.5])\n",
        "ax.set_ylabel('$x_1$', fontsize=12)\n",
        "ax.set_xlabel('$x_0$', fontsize=12)\n",
        "plt.show()"
      ],
      "metadata": {
        "colab": {
          "base_uri": "https://localhost:8080/",
          "height": 397
        },
        "id": "LDWfEmnMmfUl",
        "outputId": "d421f8b2-e0fc-4929-e0a3-f9243fe22e7c"
      },
      "execution_count": 6,
      "outputs": [
        {
          "output_type": "display_data",
          "data": {
            "text/plain": [
              "<Figure size 400x400 with 1 Axes>"
            ],
            "image/png": "[encoded data removed]"
          },
          "metadata": {}
        }
      ]
    },
    {
      "cell_type": "markdown",
      "source": [
        "**Cost Function**\n",
        "*****"
      ],
      "metadata": {
        "id": "mmpxZ27Zm36n"
      }
    },
    {
      "cell_type": "code",
      "source": [
        "# compute the sigmoid of z\n",
        "def sigmoid(z):\n",
        "  return 1/(1+np.exp(-z))"
      ],
      "metadata": {
        "id": "ezpZ3HsgmunQ"
      },
      "execution_count": 7,
      "outputs": []
    },
    {
      "cell_type": "code",
      "source": [
        "def compute_cost_logistic(X, y, w, b):\n",
        "  m = X.shape[0]\n",
        "  cost = 0.0\n",
        "\n",
        "  for i in range(m):\n",
        "    z_i = np.dot(X[i], w) + b\n",
        "    f_wb_i = sigmoid(z_i)\n",
        "    cost += -y[i]*np.log(f_wb_i) - (1-y[i])*np.log(1-f_wb_i)\n",
        "\n",
        "  cost = cost/m\n",
        "  return cost"
      ],
      "metadata": {
        "id": "e1W5FtwNnAkY"
      },
      "execution_count": 8,
      "outputs": []
    },
    {
      "cell_type": "code",
      "source": [
        "w_tmp = np.array([1,1])\n",
        "b_tmp = -3\n",
        "print('Cost J is:',compute_cost_logistic(X_train, y_train, w_tmp, b_tmp))"
      ],
      "metadata": {
        "colab": {
          "base_uri": "https://localhost:8080/"
        },
        "id": "fgBm-eS-neZ9",
        "outputId": "2ce01bd3-4dab-4a84-b3f3-bd3a5a33e4c3"
      },
      "execution_count": 10,
      "outputs": [
        {
          "output_type": "stream",
          "name": "stdout",
          "text": [
            "Cost J is: 0.36686678640551745\n"
          ]
        }
      ]
    },
    {
      "cell_type": "markdown",
      "source": [
        "**Plotting decision boundary**\n",
        "*****"
      ],
      "metadata": {
        "id": "sWy6xUePn99n"
      }
    },
    {
      "cell_type": "code",
      "source": [
        "# choose values between 0 and 6\n",
        "x0 = np.arange(0, 6)\n",
        "\n",
        "# plot the two decision boundaries\n",
        "x1 = 3 - x0\n",
        "x1_other = 4 - x0\n",
        "\n",
        "fig, ax = plt.subplots(1,1, figsize=(4,4))\n",
        "\n",
        "# plot the decision boundry\n",
        "ax.plot(x0, x1, c='blue', label='$b$=-3')\n",
        "ax.plot(x0, x1_other, c='magenta', label='$b$=-4')\n",
        "ax.axis([0,4,0,4])\n",
        "\n",
        "# plot the original data\n",
        "plot_data(X_train, y_train, ax)\n",
        "ax.axis([0,4,0,4])\n",
        "ax.set_ylabel('$x_1$', fontsize=12)\n",
        "ax.set_xlabel('$x_0$', fontsize=12)\n",
        "plt.legend(loc=\"upper right\")\n",
        "plt.title(\"Decision Boundary\")\n",
        "plt.show()"
      ],
      "metadata": {
        "colab": {
          "base_uri": "https://localhost:8080/",
          "height": 414
        },
        "id": "agBsaqwtnqWd",
        "outputId": "3107e7b2-a24b-4cb9-da5c-07958c8eec31"
      },
      "execution_count": 11,
      "outputs": [
        {
          "output_type": "display_data",
          "data": {
            "text/plain": [
              "<Figure size 400x400 with 1 Axes>"
            ],
            "image/png": "[encoded data removed]"
          },
          "metadata": {}
        }
      ]
    },
    {
      "cell_type": "code",
      "source": [
        "w_array1 = np.array([1,1])\n",
        "b_1 = -3\n",
        "w_array2 = np.array([1,1])\n",
        "b_2 = -4\n",
        "\n",
        "print(\"Cost for b = -3 : \", compute_cost_logistic(X_train, y_train, w_array1, b_1))\n",
        "print(\"Cost for b = -4 : \", compute_cost_logistic(X_train, y_train, w_array2, b_2))"
      ],
      "metadata": {
        "colab": {
          "base_uri": "https://localhost:8080/"
        },
        "id": "X92UGhdZoqiI",
        "outputId": "6681744a-4a36-4f29-f27e-5f207cd7ca43"
      },
      "execution_count": 18,
      "outputs": [
        {
          "output_type": "stream",
          "name": "stdout",
          "text": [
            "Cost for b = -3 :  0.36686678640551745\n",
            "Cost for b = -4 :  0.5036808636748461\n"
          ]
        }
      ]
    }
  ]
}