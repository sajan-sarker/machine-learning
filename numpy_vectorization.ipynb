{
  "nbformat": 4,
  "nbformat_minor": 0,
  "metadata": {
    "colab": {
      "provenance": [],
      "authorship_tag": "ABX9TyMGnQsPwvEQLSmMeZ4EXKnP",
      "include_colab_link": true
    },
    "kernelspec": {
      "name": "python3",
      "display_name": "Python 3"
    },
    "language_info": {
      "name": "python"
    }
  },
  "cells": [
    {
      "cell_type": "markdown",
      "metadata": {
        "id": "view-in-github",
        "colab_type": "text"
      },
      "source": [
        "<a href=\"https://colab.research.google.com/github/sajan-sarker/machine-learning/blob/main/numpy_vectorization.ipynb\" target=\"_parent\"><img src=\"https://colab.research.google.com/assets/colab-badge.svg\" alt=\"Open In Colab\"/></a>"
      ]
    },
    {
      "cell_type": "markdown",
      "source": [
        "*Python, NumPy and Vectorization*"
      ],
      "metadata": {
        "id": "owmY_F14zOwQ"
      }
    },
    {
      "cell_type": "code",
      "source": [
        "import numpy as np\n",
        "import time"
      ],
      "metadata": {
        "id": "QOHXC15pzOko"
      },
      "execution_count": 1,
      "outputs": []
    },
    {
      "cell_type": "markdown",
      "source": [
        "Vector Creation:"
      ],
      "metadata": {
        "id": "Bc7YQQ4z0ekB"
      }
    },
    {
      "cell_type": "code",
      "execution_count": 7,
      "metadata": {
        "colab": {
          "base_uri": "https://localhost:8080/"
        },
        "id": "BvEEJSBzzGhs",
        "outputId": "8a5b8eaf-37b0-45c2-bc38-46b493f9faf3"
      },
      "outputs": [
        {
          "output_type": "stream",
          "name": "stdout",
          "text": [
            "a = [0. 0. 0. 0.], shape: (4,), data type: float64\n",
            "a = [0. 0. 0. 0.], shape: (4,), data type: float64\n",
            "a = [0.32396797 0.16137418 0.5354722  0.5177139 ], shape: (4,), data type: float64\n"
          ]
        }
      ],
      "source": [
        "a = np.zeros(4)\n",
        "print(f'a = {a}, shape: {a.shape}, data type: {a.dtype}')\n",
        "a = np.zeros((4,))\n",
        "print(f'a = {a}, shape: {a.shape}, data type: {a.dtype}')\n",
        "a = np.random.random_sample(4)\n",
        "print(f'a = {a}, shape: {a.shape}, data type: {a.dtype}')"
      ]
    },
    {
      "cell_type": "code",
      "source": [
        "a = np.arange(4)\n",
        "print(f'a = {a}, shape: {a.shape}, data type: {a.dtype}')\n",
        "a = np.random.rand(4)\n",
        "print(f'a = {a}, shape: {a.shape}, data type: {a.dtype}')"
      ],
      "metadata": {
        "colab": {
          "base_uri": "https://localhost:8080/"
        },
        "id": "EHPwglx61myw",
        "outputId": "e4d0175c-b85e-4bf7-cac7-1b64f440480a"
      },
      "execution_count": 9,
      "outputs": [
        {
          "output_type": "stream",
          "name": "stdout",
          "text": [
            "a = [0 1 2 3], shape: (4,), data type: int64\n",
            "a = [0.31076711 0.55426719 0.99613908 0.48612948], shape: (4,), data type: float64\n"
          ]
        }
      ]
    },
    {
      "cell_type": "code",
      "source": [
        "a = np.array([1, 2, 3, 4])\n",
        "print(f'a = {a}, shape: {a.shape}, data type: {a.dtype}')\n",
        "a = np.array([1.2, 2.5, 3, 4])\n",
        "print(f'a = {a}, shape: {a.shape}, data type: {a.dtype}')"
      ],
      "metadata": {
        "colab": {
          "base_uri": "https://localhost:8080/"
        },
        "id": "K1x44Bmy2B3G",
        "outputId": "9145a149-8ed2-4f10-fe90-6ed2ef7b9854"
      },
      "execution_count": 11,
      "outputs": [
        {
          "output_type": "stream",
          "name": "stdout",
          "text": [
            "a = [1 2 3 4], shape: (4,), data type: int64\n",
            "a = [1.2 2.5 3.  4. ], shape: (4,), data type: float64\n"
          ]
        }
      ]
    },
    {
      "cell_type": "markdown",
      "source": [
        "Operations on vectorss\n",
        "****"
      ],
      "metadata": {
        "id": "q6UlVF492W1q"
      }
    },
    {
      "cell_type": "markdown",
      "source": [
        "Indexing"
      ],
      "metadata": {
        "id": "wp5M2A6j2cfx"
      }
    },
    {
      "cell_type": "code",
      "source": [
        "a = np.arange(10)+1\n",
        "print(a)\n",
        "print(f'a = {a}, shape: {a.shape}, data type: {a.dtype}')\n",
        "print(f'shape: {a[2].shape}, a[2]= {a[2]}')\n",
        "\n",
        "try:\n",
        "  c = a[10]\n",
        "except Exception as e:\n",
        "  print(e)"
      ],
      "metadata": {
        "colab": {
          "base_uri": "https://localhost:8080/"
        },
        "id": "ikOYrCo-2Rwo",
        "outputId": "4013a076-5ee7-4f5e-edcf-e56a40c4673f"
      },
      "execution_count": 17,
      "outputs": [
        {
          "output_type": "stream",
          "name": "stdout",
          "text": [
            "[ 1  2  3  4  5  6  7  8  9 10]\n",
            "a = [ 1  2  3  4  5  6  7  8  9 10], shape: (10,), data type: int64\n",
            "shape: (), a[2]= 3\n",
            "index 10 is out of bounds for axis 0 with size 10\n"
          ]
        }
      ]
    },
    {
      "cell_type": "markdown",
      "source": [
        "Slicing"
      ],
      "metadata": {
        "id": "J4IZap5H3aYa"
      }
    },
    {
      "cell_type": "code",
      "source": [
        "print(a)\n",
        "b = [1,2,3,4,5,6]\n",
        "print(a[2:7])   # array slicing\n",
        "print(b[2:7])   # list slicing\n",
        "print(a[2:7:1])\n",
        "print(a[2:7:2])\n",
        "print(a[:3])\n",
        "print(a[3:])\n",
        "print(a[:])"
      ],
      "metadata": {
        "colab": {
          "base_uri": "https://localhost:8080/"
        },
        "id": "Bg64KubL3bPi",
        "outputId": "d67f62aa-748d-47a3-d4a6-dbc26dd45354"
      },
      "execution_count": 23,
      "outputs": [
        {
          "output_type": "stream",
          "name": "stdout",
          "text": [
            "[ 1  2  3  4  5  6  7  8  9 10]\n",
            "[3 4 5 6 7]\n",
            "[3, 4, 5, 6]\n",
            "[3 4 5 6 7]\n",
            "[3 5 7]\n",
            "[1 2 3]\n",
            "[ 4  5  6  7  8  9 10]\n",
            "[ 1  2  3  4  5  6  7  8  9 10]\n"
          ]
        }
      ]
    },
    {
      "cell_type": "markdown",
      "source": [
        "Single vector Operation"
      ],
      "metadata": {
        "id": "DwyOcRHW4DW6"
      }
    },
    {
      "cell_type": "code",
      "source": [
        "print(a)\n",
        "print(-a)\n",
        "print(np.sum(a))\n",
        "print(np.mean(a))\n",
        "print(a**2)"
      ],
      "metadata": {
        "colab": {
          "base_uri": "https://localhost:8080/"
        },
        "id": "Sei-E4we4FLX",
        "outputId": "2ca56938-7725-4c70-8a1b-6bf13c0da2a7"
      },
      "execution_count": 26,
      "outputs": [
        {
          "output_type": "stream",
          "name": "stdout",
          "text": [
            "[ 1  2  3  4  5  6  7  8  9 10]\n",
            "[ -1  -2  -3  -4  -5  -6  -7  -8  -9 -10]\n",
            "55\n",
            "5.5\n",
            "[  1   4   9  16  25  36  49  64  81 100]\n"
          ]
        }
      ]
    },
    {
      "cell_type": "markdown",
      "source": [
        "Vector addition, subtraction"
      ],
      "metadata": {
        "id": "dINhRMWh4g3a"
      }
    },
    {
      "cell_type": "code",
      "source": [
        "a = np.arange(1, 11)\n",
        "b = np.arange(11,21)\n",
        "print(a)\n",
        "print(b)\n",
        "print(a + b)"
      ],
      "metadata": {
        "colab": {
          "base_uri": "https://localhost:8080/"
        },
        "id": "LpfJlf5-4Rb8",
        "outputId": "07cadd8e-6047-46c5-ed4f-8df70a14296d"
      },
      "execution_count": 28,
      "outputs": [
        {
          "output_type": "stream",
          "name": "stdout",
          "text": [
            "[ 1  2  3  4  5  6  7  8  9 10]\n",
            "[11 12 13 14 15 16 17 18 19 20]\n",
            "[12 14 16 18 20 22 24 26 28 30]\n"
          ]
        }
      ]
    },
    {
      "cell_type": "code",
      "source": [
        "c = np.arange(21, 26)\n",
        "print(c)"
      ],
      "metadata": {
        "colab": {
          "base_uri": "https://localhost:8080/"
        },
        "id": "je2xnGYX40r4",
        "outputId": "c0b88321-9e04-46ed-d707-6adcfd4eb962"
      },
      "execution_count": 29,
      "outputs": [
        {
          "output_type": "stream",
          "name": "stdout",
          "text": [
            "[21 22 23 24 25]\n"
          ]
        }
      ]
    },
    {
      "cell_type": "code",
      "source": [
        "try:\n",
        "  d  = a + c\n",
        "except Exception as e:\n",
        "  print(e)"
      ],
      "metadata": {
        "colab": {
          "base_uri": "https://localhost:8080/"
        },
        "id": "75-rcnqL48nA",
        "outputId": "bc6f0131-f713-44a8-cd89-033eb31b3356"
      },
      "execution_count": 30,
      "outputs": [
        {
          "output_type": "stream",
          "name": "stdout",
          "text": [
            "operands could not be broadcast together with shapes (10,) (5,) \n"
          ]
        }
      ]
    },
    {
      "cell_type": "markdown",
      "source": [
        "Scalar vector operations"
      ],
      "metadata": {
        "id": "eiX8q0F25FZC"
      }
    },
    {
      "cell_type": "code",
      "source": [
        "print(a)\n",
        "print(a * 5)"
      ],
      "metadata": {
        "colab": {
          "base_uri": "https://localhost:8080/"
        },
        "id": "m_xaS7gy5HS2",
        "outputId": "f126c7e7-4956-4bba-c7e5-ba4395e8101f"
      },
      "execution_count": 31,
      "outputs": [
        {
          "output_type": "stream",
          "name": "stdout",
          "text": [
            "[ 1  2  3  4  5  6  7  8  9 10]\n",
            "[ 5 10 15 20 25 30 35 40 45 50]\n"
          ]
        }
      ]
    },
    {
      "cell_type": "markdown",
      "source": [
        "Dot product"
      ],
      "metadata": {
        "id": "Pw2YMXjp5o9h"
      }
    },
    {
      "cell_type": "code",
      "source": [
        "a = np.array([1, 2, 3])\n",
        "b = np.array([1, 2, 3])\n",
        "print('a dot b using dot function:',a.dot(b))\n",
        "print('a dot b using dot function:',np.dot(a,b))\n",
        "\n",
        "x = 0\n",
        "for i in range(a.shape[0]):\n",
        "  x = x+ (a[i] * b[i])\n",
        "print ('a dot b using for loop:',x)"
      ],
      "metadata": {
        "colab": {
          "base_uri": "https://localhost:8080/"
        },
        "id": "BowXj9iy5nCr",
        "outputId": "892e6bf4-057d-4d72-b01e-7b61cb14bb74"
      },
      "execution_count": 37,
      "outputs": [
        {
          "output_type": "stream",
          "name": "stdout",
          "text": [
            "a dot b using dot function: 14\n",
            "a dot b using dot function: 14\n",
            "a dot b using for loop: 14\n"
          ]
        }
      ]
    },
    {
      "cell_type": "markdown",
      "source": [
        "Vector vs for loop calculation time difference"
      ],
      "metadata": {
        "id": "Afzx0sx07FcL"
      }
    },
    {
      "cell_type": "code",
      "source": [
        "np.random.seed(1)\n",
        "a = np.random.rand(10000000)\n",
        "b = np.random.rand(10000000)\n",
        "\n",
        "# dot product version\n",
        "tic = time.time()   # start time\n",
        "c = np.dot(a, b)\n",
        "toc = time.time()   # end time\n",
        "print(f\"a dot b: {c:.4f}\")\n",
        "print(f\"Vectorized version duration: {1000*(toc-tic):.4f} ms\")\n",
        "\n",
        "# loop version\n",
        "x = 0\n",
        "tic = time.time()\n",
        "for i in range(a.shape[0]):\n",
        "  x = x + (a[i] * b[i])\n",
        "toc = time.time()\n",
        "print(f\"a dot b loop: {c:.4f}\")\n",
        "print(f\"Loop version duration: {1000*(toc-tic):.4f} ms\")\n",
        "\n",
        "del(a)\n",
        "del(b)"
      ],
      "metadata": {
        "colab": {
          "base_uri": "https://localhost:8080/"
        },
        "id": "W5gxGiSZ6yNg",
        "outputId": "e04e5577-caf8-4119-cbe0-4b149d1f2da9"
      },
      "execution_count": 43,
      "outputs": [
        {
          "output_type": "stream",
          "name": "stdout",
          "text": [
            "a dot b: 2501072.5817\n",
            "Vectorized version duration: 12.3882 ms\n",
            "a dot b loop: 2501072.5817\n",
            "Loop version duration: 5422.0617 ms\n"
          ]
        }
      ]
    },
    {
      "cell_type": "code",
      "source": [
        "x = np.array([[1], [2], [3],[4]])\n",
        "y = np.array([2])\n",
        "z = np.dot(x[1], y)\n",
        "print(x)\n",
        "print('x:', x.shape)\n",
        "print(x[1])\n",
        "print('x[1]:', x[1].shape)\n",
        "print(y)\n",
        "print('y:',y.shape)\n",
        "print(z)\n",
        "print('z',z.shape)"
      ],
      "metadata": {
        "colab": {
          "base_uri": "https://localhost:8080/"
        },
        "id": "5VEOkR3N939y",
        "outputId": "36586280-eafb-4383-debc-3b9b56d5a424"
      },
      "execution_count": 44,
      "outputs": [
        {
          "output_type": "stream",
          "name": "stdout",
          "text": [
            "[[1]\n",
            " [2]\n",
            " [3]\n",
            " [4]]\n",
            "x: (4, 1)\n",
            "[2]\n",
            "x[1]: (1,)\n",
            "[2]\n",
            "y: (1,)\n",
            "4\n",
            "z ()\n"
          ]
        }
      ]
    },
    {
      "cell_type": "markdown",
      "source": [
        "Matrices\n",
        "****"
      ],
      "metadata": {
        "id": "zDYDsf4tBTw0"
      }
    },
    {
      "cell_type": "markdown",
      "source": [
        "Matrix Creation"
      ],
      "metadata": {
        "id": "5d7MOy-JBXz0"
      }
    },
    {
      "cell_type": "code",
      "source": [
        "a = np.zeros(5)\n",
        "print(f'a: {a}, Shape: {a.shape}')\n",
        "\n",
        "b = np.zeros((1,5))\n",
        "print(f\"b: {b}, shape: {b.shape}\")\n",
        "\n",
        "f = np.array([[1], [2], [3], [4], [5]])\n",
        "print(f\"f: {f}, shape: {f.shape}\")\n",
        "\n",
        "e = np.zeros((2,1))\n",
        "print(f\"e: {e}, shape: {e.shape}\")\n",
        "\n",
        "c = np.random.random_sample(1)\n",
        "print(f\"c: {c}, shape: {c.shape}\")\n",
        "\n",
        "d = np.random.random_sample((1,1))\n",
        "print(f\"d: {d}, shape: {d.shape}\")"
      ],
      "metadata": {
        "colab": {
          "base_uri": "https://localhost:8080/"
        },
        "id": "3xnRNdZKBViw",
        "outputId": "6f6c9dbf-c563-4c15-9be5-65445723d13e"
      },
      "execution_count": 48,
      "outputs": [
        {
          "output_type": "stream",
          "name": "stdout",
          "text": [
            "a: [0. 0. 0. 0. 0.], Shape: (5,)\n",
            "b: [[0. 0. 0. 0. 0.]], shape: (1, 5)\n",
            "f: [[1]\n",
            " [2]\n",
            " [3]\n",
            " [4]\n",
            " [5]], shape: (5, 1)\n",
            "e: [[0.]\n",
            " [0.]], shape: (2, 1)\n",
            "c: [0.80204309], shape: (1,)\n",
            "d: [[0.24814448]], shape: (1, 1)\n"
          ]
        }
      ]
    },
    {
      "cell_type": "markdown",
      "source": [
        "Matrix Indexing"
      ],
      "metadata": {
        "id": "eT5jt4hxCt9N"
      }
    },
    {
      "cell_type": "code",
      "source": [
        "a = np.arange(6).reshape(3,2)\n",
        "print(a)\n",
        "print(f\"a[2,0]: {a[2,0]}, shape: {a[2,0].shape}, type: {type(a[2,0])}\")\n",
        "print(f\"a[2]: {a[2]}, shape: {a[2].shape}, type: {type(a[2])}\")"
      ],
      "metadata": {
        "colab": {
          "base_uri": "https://localhost:8080/"
        },
        "id": "p0M162unCvey",
        "outputId": "1a2fb2ac-a5b8-4202-9567-077f57cc7c55"
      },
      "execution_count": 52,
      "outputs": [
        {
          "output_type": "stream",
          "name": "stdout",
          "text": [
            "[[0 1]\n",
            " [2 3]\n",
            " [4 5]]\n",
            "a[2,0]: 4, shape: (), type: <class 'numpy.int64'>\n",
            "a[2]: [4 5], shape: (2,), type: <class 'numpy.ndarray'>\n"
          ]
        }
      ]
    },
    {
      "cell_type": "markdown",
      "source": [
        "matrix slicing"
      ],
      "metadata": {
        "id": "4YXBayepEQAU"
      }
    },
    {
      "cell_type": "code",
      "source": [
        "a = np.arange(20).reshape(2, 10)\n",
        "print(a)\n",
        "print()\n",
        "print(f\"a[0, 2:7:1]: {a[0, 2:7:1]}, shape: {a[0, 2:7:1].shape}, type: {type(a[0, 2:7:1])}\")\n",
        "\n",
        "print(f\"a[:, 2:7:1]: \\n {a[:, 2:7:1]}, shape: {a[:, 2:7:1].shape}, type: {type(a[0, 2:7:1])}\")\n",
        "\n",
        "print(f\"a[1, :]: \\n {a[1, :]}, shape: {a[1, :].shape}, type: {type(a[1,:])}\")"
      ],
      "metadata": {
        "colab": {
          "base_uri": "https://localhost:8080/"
        },
        "id": "q2uIUT1IDb8r",
        "outputId": "2a249d9e-1e22-4367-9c65-be069e0ac5c8"
      },
      "execution_count": 60,
      "outputs": [
        {
          "output_type": "stream",
          "name": "stdout",
          "text": [
            "[[ 0  1  2  3  4  5  6  7  8  9]\n",
            " [10 11 12 13 14 15 16 17 18 19]]\n",
            "\n",
            "a[0, 2:7:1]: [2 3 4 5 6], shape: (5,), type: <class 'numpy.ndarray'>\n",
            "a[:, 2:7:1]: \n",
            " [[ 2  3  4  5  6]\n",
            " [12 13 14 15 16]], shape: (2, 5), type: <class 'numpy.ndarray'>\n",
            "a[1, :]: \n",
            " [10 11 12 13 14 15 16 17 18 19], shape: (10,), type: <class 'numpy.ndarray'>\n"
          ]
        }
      ]
    }
  ]
}