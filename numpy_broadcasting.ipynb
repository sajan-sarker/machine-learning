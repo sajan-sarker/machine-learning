{
  "nbformat": 4,
  "nbformat_minor": 0,
  "metadata": {
    "colab": {
      "provenance": [],
      "authorship_tag": "ABX9TyOulkEixSzN7lpKBS4tvy1a",
      "include_colab_link": true
    },
    "kernelspec": {
      "name": "python3",
      "display_name": "Python 3"
    },
    "language_info": {
      "name": "python"
    }
  },
  "cells": [
    {
      "cell_type": "markdown",
      "metadata": {
        "id": "view-in-github",
        "colab_type": "text"
      },
      "source": [
        "<a href=\"https://colab.research.google.com/github/sajan-sarker/machine-learning/blob/main/numpy_broadcasting.ipynb\" target=\"_parent\"><img src=\"https://colab.research.google.com/assets/colab-badge.svg\" alt=\"Open In Colab\"/></a>"
      ]
    },
    {
      "cell_type": "code",
      "execution_count": 1,
      "metadata": {
        "id": "8DxG2i1nV6uF"
      },
      "outputs": [],
      "source": [
        "import numpy as np"
      ]
    },
    {
      "cell_type": "code",
      "source": [
        "# scenario 1\n",
        "\n",
        "a1 = np.arange(8).reshape(2,4)\n",
        "a2 = np.arange(8,16).reshape(2,4)\n",
        "print(a1)\n",
        "print(a2)"
      ],
      "metadata": {
        "colab": {
          "base_uri": "https://localhost:8080/"
        },
        "id": "bubEwqWjV_4q",
        "outputId": "4f9c1a55-c74f-4783-980b-e8cde2040cc0"
      },
      "execution_count": 5,
      "outputs": [
        {
          "output_type": "stream",
          "name": "stdout",
          "text": [
            "[[0 1 2 3]\n",
            " [4 5 6 7]]\n",
            "[[ 8  9 10 11]\n",
            " [12 13 14 15]]\n"
          ]
        }
      ]
    },
    {
      "cell_type": "code",
      "source": [
        "a1 + a2"
      ],
      "metadata": {
        "colab": {
          "base_uri": "https://localhost:8080/"
        },
        "id": "n0oW-l71WM0u",
        "outputId": "565d5fb8-531d-46ce-db3c-60cc86a2986f"
      },
      "execution_count": 7,
      "outputs": [
        {
          "output_type": "execute_result",
          "data": {
            "text/plain": [
              "array([[ 8, 10, 12, 14],\n",
              "       [16, 18, 20, 22]])"
            ]
          },
          "metadata": {},
          "execution_count": 7
        }
      ]
    },
    {
      "cell_type": "code",
      "source": [
        "# scenario 2\n",
        "\n",
        "a3 = np.arange(9).reshape(3,3)\n",
        "a4 = np.arange(3).reshape(1,3)\n",
        "print(a3)\n",
        "print(a4)"
      ],
      "metadata": {
        "colab": {
          "base_uri": "https://localhost:8080/"
        },
        "id": "R7LUiboFWQ2W",
        "outputId": "bdefaa7d-732f-4cfc-e6b5-224a9556be45"
      },
      "execution_count": 13,
      "outputs": [
        {
          "output_type": "stream",
          "name": "stdout",
          "text": [
            "[[0 1 2]\n",
            " [3 4 5]\n",
            " [6 7 8]]\n",
            "[[0 1 2]]\n"
          ]
        }
      ]
    },
    {
      "cell_type": "code",
      "source": [
        "print(a3 + a4) # a4 is adding with each row of a3."
      ],
      "metadata": {
        "colab": {
          "base_uri": "https://localhost:8080/"
        },
        "id": "dCVHnmvSWmhw",
        "outputId": "af80f3ff-e371-43d5-fb42-63461d94a10b"
      },
      "execution_count": 15,
      "outputs": [
        {
          "output_type": "stream",
          "name": "stdout",
          "text": [
            "[[ 0  2  4]\n",
            " [ 3  5  7]\n",
            " [ 6  8 10]]\n"
          ]
        }
      ]
    },
    {
      "cell_type": "markdown",
      "source": [
        "**Rules for Broadcasting**"
      ],
      "metadata": {
        "id": "p3HeTM0aW3o7"
      }
    },
    {
      "cell_type": "code",
      "source": [
        "# If x=m and y=n, operation will take place\n",
        "a1 = np.arange(8).reshape(2,4)\n",
        "a2 = np.arange(8, 16).reshape(2,4)\n",
        "\n",
        "print(a1+a2)"
      ],
      "metadata": {
        "colab": {
          "base_uri": "https://localhost:8080/"
        },
        "id": "FNcxHLBCWtrq",
        "outputId": "8e11ce8e-6fa7-4a45-c6aa-6debccad969c"
      },
      "execution_count": 17,
      "outputs": [
        {
          "output_type": "stream",
          "name": "stdout",
          "text": [
            "[[ 8 10 12 14]\n",
            " [16 18 20 22]]\n"
          ]
        }
      ]
    },
    {
      "cell_type": "code",
      "source": [
        "# If x=1 and y=n then also operatino will take place(same dimentsion)\n",
        "a5 = np.arange(3).reshape(1,3)\n",
        "a6 = np.arange(12).reshape(4,3)\n",
        "print(a5)\n",
        "print(a6)\n",
        "print(a5+a6)"
      ],
      "metadata": {
        "colab": {
          "base_uri": "https://localhost:8080/"
        },
        "id": "UDGNdXyrXS0e",
        "outputId": "50d1ecd1-8bbd-4906-ebf8-7f97f9c79799"
      },
      "execution_count": 21,
      "outputs": [
        {
          "output_type": "stream",
          "name": "stdout",
          "text": [
            "[[0 1 2]]\n",
            "[[ 0  1  2]\n",
            " [ 3  4  5]\n",
            " [ 6  7  8]\n",
            " [ 9 10 11]]\n",
            "[[ 0  2  4]\n",
            " [ 3  5  7]\n",
            " [ 6  8 10]\n",
            " [ 9 11 13]]\n"
          ]
        }
      ]
    },
    {
      "cell_type": "code",
      "source": [
        "# If x= 1 and y!= n then operation will not take place\n",
        "\n",
        "a7 = np.arange(3).reshape(1,3)\n",
        "a8 = np.arange(16).reshape(4,4)\n",
        "#print(a7+a8)   # error will occurre"
      ],
      "metadata": {
        "id": "EJZaivHrXnU0"
      },
      "execution_count": 24,
      "outputs": []
    },
    {
      "cell_type": "code",
      "source": [
        "# If x= 1 and n = 1 then y= m then operation will take place\n",
        "\n",
        "a9 = np.arange(3).reshape(1,3)\n",
        "a10 = np.arange(3).reshape(3,1)\n",
        "print(a9 + a10)"
      ],
      "metadata": {
        "colab": {
          "base_uri": "https://localhost:8080/"
        },
        "id": "uzJKmXUqX-Tl",
        "outputId": "0595e601-71b7-44d0-f3ea-b58a9820a4d6"
      },
      "execution_count": 25,
      "outputs": [
        {
          "output_type": "stream",
          "name": "stdout",
          "text": [
            "[[0 1 2]\n",
            " [1 2 3]\n",
            " [2 3 4]]\n"
          ]
        }
      ]
    }
  ]
}