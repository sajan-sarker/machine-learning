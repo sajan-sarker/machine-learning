{
  "nbformat": 4,
  "nbformat_minor": 0,
  "metadata": {
    "colab": {
      "provenance": [],
      "authorship_tag": "ABX9TyMU3M7pNqp3z2NBSSq3VG7O",
      "include_colab_link": true
    },
    "kernelspec": {
      "name": "python3",
      "display_name": "Python 3"
    },
    "language_info": {
      "name": "python"
    }
  },
  "cells": [
    {
      "cell_type": "markdown",
      "metadata": {
        "id": "view-in-github",
        "colab_type": "text"
      },
      "source": [
        "<a href=\"https://colab.research.google.com/github/sajan-sarker/machine-learning/blob/main/logistic_regression.ipynb\" target=\"_parent\"><img src=\"https://colab.research.google.com/assets/colab-badge.svg\" alt=\"Open In Colab\"/></a>"
      ]
    },
    {
      "cell_type": "code",
      "execution_count": 9,
      "metadata": {
        "id": "1fKcE6Iquv-F"
      },
      "outputs": [],
      "source": [
        "import numpy as np\n",
        "import copy, math\n",
        "import matplotlib.pyplot as plt\n",
        "from matplotlib.patches import FancyArrowPatch"
      ]
    },
    {
      "cell_type": "markdown",
      "source": [
        "**Dataset**\n",
        "*****"
      ],
      "metadata": {
        "id": "MB2_7Ei4u944"
      }
    },
    {
      "cell_type": "code",
      "source": [
        "X_train = np.array([[0.5, 1.5], [1,1], [1.5, 0.5], [3, 0.5], [2, 2], [1, 2.5]])  #(m,n)\n",
        "y_train = np.array([0, 0, 0, 1, 1, 1])                                           #(m,)"
      ],
      "metadata": {
        "id": "X3ooY0zKvCKo"
      },
      "execution_count": 2,
      "outputs": []
    },
    {
      "cell_type": "markdown",
      "source": [
        "**Plot Data**\n",
        "*****"
      ],
      "metadata": {
        "id": "TAsqM1aJu914"
      }
    },
    {
      "cell_type": "code",
      "source": [
        "def plot_data(X, y, ax):\n",
        "  # Find Indices of Positive and Negative Examples\n",
        "  pos = y == 1\n",
        "  neg = y == 0\n",
        "  pos = pos.reshape(-1,)  #work with 1D or 1D y vectors\n",
        "  neg = neg.reshape(-1,)\n",
        "\n",
        "  # Plot examples\n",
        "  ax.scatter(X[pos, 0], X[pos, 1], marker='x', s=80, c = 'red', label='y=1')\n",
        "  ax.scatter(X[neg, 0], X[neg, 1], marker='o', s=80, label='y=0', facecolors='none', edgecolors='blue', lw=3)\n",
        "  ax.legend(loc='best')"
      ],
      "metadata": {
        "id": "0Ln7ydBsvEwY"
      },
      "execution_count": 3,
      "outputs": []
    },
    {
      "cell_type": "code",
      "source": [
        "fig, ax = plt.subplots(1,1, figsize=(4,4))\n",
        "plot_data(X_train, y_train, ax)\n",
        "\n",
        "# Set both axes to be from 0-4\n",
        "ax.axis([0, 4, 0, 3.5])\n",
        "ax.set_ylabel('$x_1$', fontsize=12)\n",
        "ax.set_xlabel('$x_0$', fontsize=12)\n",
        "plt.show()"
      ],
      "metadata": {
        "colab": {
          "base_uri": "https://localhost:8080/",
          "height": 397
        },
        "id": "m6gqrV85vHFo",
        "outputId": "f84c12d4-894d-461c-8328-267637c04d05"
      },
      "execution_count": 4,
      "outputs": [
        {
          "output_type": "display_data",
          "data": {
            "text/plain": [
              "<Figure size 400x400 with 1 Axes>"
            ],
            "image/png": "[encoded data removed]"
          },
          "metadata": {}
        }
      ]
    },
    {
      "cell_type": "markdown",
      "source": [
        "**Cost Function**\n",
        "*****"
      ],
      "metadata": {
        "id": "KtCPBtequ9y4"
      }
    },
    {
      "cell_type": "code",
      "source": [
        "# compute the sigmoid of z\n",
        "def sigmoid(z):\n",
        "  return 1/(1+np.exp(-z))"
      ],
      "metadata": {
        "id": "wtR_acScvKK_"
      },
      "execution_count": 5,
      "outputs": []
    },
    {
      "cell_type": "code",
      "source": [
        "def compute_cost_logistic(X, y, w, b):\n",
        "  m = X.shape[0]\n",
        "  cost = 0.0\n",
        "\n",
        "  for i in range(m):\n",
        "    z_i = np.dot(X[i], w) + b\n",
        "    f_wb_i = sigmoid(z_i)\n",
        "    cost += -y[i]*np.log(f_wb_i) - (1-y[i])*np.log(1-f_wb_i)\n",
        "\n",
        "  cost = cost/m\n",
        "  return cost"
      ],
      "metadata": {
        "id": "LJI6AmJyvKwH"
      },
      "execution_count": 6,
      "outputs": []
    },
    {
      "cell_type": "markdown",
      "source": [
        "**Gradient Descent Implementation**\n",
        "*****"
      ],
      "metadata": {
        "id": "3elR0zr_vad4"
      }
    },
    {
      "cell_type": "code",
      "source": [
        "def compute_gradient_logistic(X, y, w, b):\n",
        "  \"\"\"\n",
        "  Computes the gradient for logistic regression\n",
        "\n",
        "  Args:\n",
        "    X (ndarray (m,n): Data, m examples with n features\n",
        "    y (ndarray (m,)): target values\n",
        "    w (ndarray (n,)): model parameters\n",
        "    b (scalar)      : model parameter\n",
        "  Returns\n",
        "    dj_dw (ndarray (n,)): The gradient of the cost w.r.t. the parameters w.\n",
        "    dj_db (scalar)      : The gradient of the cost w.r.t. the parameter b.\n",
        "  \"\"\"\n",
        "  m, n = X.shape\n",
        "  dj_dw = np.zeros((n,))\n",
        "  dj_db = 0\n",
        "\n",
        "  for i in range(m):\n",
        "    f_wb_i = sigmoid(np.dot(X[i], w) + b)   # (n,)(,n) = scalar\n",
        "    err_i = f_wb_i - y[i]  # scalar\n",
        "    for j in range(n):\n",
        "      dj_dw[j] = dj_dw[j] + err_i * X[i,j]  # scalar\n",
        "    dj_db = dj_db + err_i\n",
        "  dj_dw = dj_dw / m   # (n,)\n",
        "  dj_db = dj_db / m   # scalar\n",
        "\n",
        "  return dj_db, dj_dw"
      ],
      "metadata": {
        "id": "ZwasWmY-vKgH"
      },
      "execution_count": 7,
      "outputs": []
    },
    {
      "cell_type": "code",
      "source": [
        "# test gradient\n",
        "X_tmp = np.array([[0.5, 1.5], [1,1], [1.5, 0.5], [3, 0.5], [2, 2], [1, 2.5]])\n",
        "y_tmp = np.array([0, 0, 0, 1, 1, 1])\n",
        "w_tmp = np.array([2.,3.])\n",
        "b_tmp = 1.\n",
        "\n",
        "dj_db_tmp, dj_dw_tmp = compute_gradient_logistic(X_tmp, y_tmp, w_tmp, b_tmp)\n",
        "print(f\"dj_db: {dj_db_tmp}\" )\n",
        "print(f\"dj_dw: {dj_dw_tmp.tolist()}\" )"
      ],
      "metadata": {
        "colab": {
          "base_uri": "https://localhost:8080/"
        },
        "id": "AkkWQN4Nwu9o",
        "outputId": "a967a35f-8361-4d8b-a3cc-ca5b9c31a034"
      },
      "execution_count": 8,
      "outputs": [
        {
          "output_type": "stream",
          "name": "stdout",
          "text": [
            "dj_db: 0.49861806546328574\n",
            "dj_dw: [0.498333393278696, 0.49883942983996693]\n"
          ]
        }
      ]
    },
    {
      "cell_type": "code",
      "source": [
        "# Gradient Descent Code\n",
        "\n",
        "def gradient_descent(X, y, w_in, b_in, alpha, num_iters):\n",
        "  \"\"\"\n",
        "  Performs batch gradient descent\n",
        "\n",
        "  Args:\n",
        "    X (ndarray (m,n)   : Data, m examples with n features\n",
        "    y (ndarray (m,))   : target values\n",
        "    w_in (ndarray (n,)): Initial values of model parameters\n",
        "    b_in (scalar)      : Initial values of model parameter\n",
        "    alpha (float)      : Learning rate\n",
        "    num_iters (scalar) : number of iterations to run gradient descent\n",
        "\n",
        "  Returns:\n",
        "    w (ndarray (n,))   : Updated values of parameters\n",
        "    b (scalar)         : Updated value of parameter\n",
        "  \"\"\"\n",
        "  J_hist = [] # An array to store cost J and w's at each iteration primarily for graphing later\n",
        "  w = copy.deepcopy(w_in) # avoid modifying global w within function\n",
        "  b = b_in\n",
        "\n",
        "  for i in range(num_iters):\n",
        "    # calculate the gradient and update the parameters\n",
        "    dj_db, dj_dw = compute_gradient_logistic(X, y, w, b)\n",
        "\n",
        "    # update parmeters using w, b, alpha and gradient\n",
        "    w = w - alpha * dj_dw\n",
        "    b = b - alpha * dj_db\n",
        "\n",
        "    # save cost J at each iteration\n",
        "    if i < 100000:   # prevent resource exhaustion\n",
        "      J_hist. append(compute_cost_logistic(X, y, w, b))\n",
        "\n",
        "    # print cost every at intervals 10 times or as many iteration if < 10\n",
        "    if i %math.ceil(num_iters/10) == 0:\n",
        "      print(f\"Iteration {i:4d}: cost {J_hist[-1]}\")\n",
        "\n",
        "  return w, b, J_hist"
      ],
      "metadata": {
        "id": "HtbNtTMoxNCp"
      },
      "execution_count": 10,
      "outputs": []
    },
    {
      "cell_type": "code",
      "source": [
        "w_tmp  = np.zeros_like(X_train[0])\n",
        "b_tmp  = 0.\n",
        "alph = 0.1\n",
        "iters = 10000\n",
        "\n",
        "w_out, b_out, _ = gradient_descent(X_train, y_train, w_tmp, b_tmp, alph, iters)\n",
        "print(f\"\\nupdated parameters: w:{w_out}, b:{b_out}\")"
      ],
      "metadata": {
        "colab": {
          "base_uri": "https://localhost:8080/"
        },
        "id": "IKB0Uw750dIp",
        "outputId": "7c85991a-9629-4a25-d54f-762470e6c4fb"
      },
      "execution_count": 11,
      "outputs": [
        {
          "output_type": "stream",
          "name": "stdout",
          "text": [
            "Iteration    0: cost 0.684610468560574\n",
            "Iteration 1000: cost 0.1590977666870457\n",
            "Iteration 2000: cost 0.08460064176930078\n",
            "Iteration 3000: cost 0.05705327279402531\n",
            "Iteration 4000: cost 0.04290759421682\n",
            "Iteration 5000: cost 0.03433847729884557\n",
            "Iteration 6000: cost 0.02860379802212006\n",
            "Iteration 7000: cost 0.02450156960879306\n",
            "Iteration 8000: cost 0.02142370332569295\n",
            "Iteration 9000: cost 0.019030137124109114\n",
            "\n",
            "updated parameters: w:[5.28123029 5.07815608], b:-14.222409982019837\n"
          ]
        }
      ]
    },
    {
      "cell_type": "code",
      "source": [
        "def plt_prob(ax, w_out,b_out):\n",
        "    \"\"\" plots a decision boundary but include shading to indicate the probability \"\"\"\n",
        "    #setup useful ranges and common linspaces\n",
        "    x0_space  = np.linspace(0, 4 , 100)\n",
        "    x1_space  = np.linspace(0, 4 , 100)\n",
        "\n",
        "    # get probability for x0,x1 ranges\n",
        "    tmp_x0,tmp_x1 = np.meshgrid(x0_space,x1_space)\n",
        "    z = np.zeros_like(tmp_x0)\n",
        "    for i in range(tmp_x0.shape[0]):\n",
        "        for j in range(tmp_x1.shape[1]):\n",
        "            z[i,j] = sigmoid(np.dot(w_out, np.array([tmp_x0[i,j],tmp_x1[i,j]])) + b_out)\n",
        "\n",
        "\n",
        "\n",
        ""
      ],
      "metadata": {
        "id": "VT2hnP9F1CfB"
      },
      "execution_count": 17,
      "outputs": []
    },
    {
      "cell_type": "code",
      "source": [
        "fig,ax = plt.subplots(1,1,figsize=(5,4))\n",
        "\n",
        "# plot the probability\n",
        "plt_prob(ax, w_out, b_out)\n",
        "\n",
        "# Plot the original data\n",
        "ax.set_ylabel(r'$x_1$')\n",
        "ax.set_xlabel(r'$x_0$')\n",
        "ax.axis([0, 4, 0, 3.5])\n",
        "plot_data(X_train,y_train,ax)\n",
        "\n",
        "# Plot the decision boundary\n",
        "x0 = -b_out/w_out[0]\n",
        "x1 = -b_out/w_out[1]\n",
        "ax.plot([0,x0],[x1,0], c='blue', lw=1)\n",
        "plt.show()"
      ],
      "metadata": {
        "colab": {
          "base_uri": "https://localhost:8080/",
          "height": 394
        },
        "id": "B-8XXQ860qZp",
        "outputId": "4883091d-632b-45a7-d2ee-37efb32aaca3"
      },
      "execution_count": 21,
      "outputs": [
        {
          "output_type": "display_data",
          "data": {
            "text/plain": [
              "<Figure size 500x400 with 1 Axes>"
            ],
            "image/png": "[encoded data removed]"
          },
          "metadata": {}
        }
      ]
    }
  ]
}