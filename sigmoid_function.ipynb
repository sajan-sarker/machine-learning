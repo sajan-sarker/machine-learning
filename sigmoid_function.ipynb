{
  "nbformat": 4,
  "nbformat_minor": 0,
  "metadata": {
    "colab": {
      "provenance": [],
      "authorship_tag": "ABX9TyOrFVMzQod1DhRKKCY2wcEz",
      "include_colab_link": true
    },
    "kernelspec": {
      "name": "python3",
      "display_name": "Python 3"
    },
    "language_info": {
      "name": "python"
    }
  },
  "cells": [
    {
      "cell_type": "markdown",
      "metadata": {
        "id": "view-in-github",
        "colab_type": "text"
      },
      "source": [
        "<a href=\"https://colab.research.google.com/github/sajan-sarker/machine-learning/blob/main/sigmoid_function.ipynb\" target=\"_parent\"><img src=\"https://colab.research.google.com/assets/colab-badge.svg\" alt=\"Open In Colab\"/></a>"
      ]
    },
    {
      "cell_type": "code",
      "execution_count": 11,
      "metadata": {
        "id": "ZgXfPBc8samo"
      },
      "outputs": [],
      "source": [
        "import numpy as np\n",
        "import matplotlib.pyplot as plt\n",
        "from matplotlib.patches import FancyArrowPatch\n",
        "from ipywidgets import Output"
      ]
    },
    {
      "cell_type": "markdown",
      "source": [
        "**Sigmoid Function**\n",
        "$g(z) = \\frac{1}{1+e^{-z}}\\tag{1}$"
      ],
      "metadata": {
        "id": "DMPPdVDCnaYs"
      }
    },
    {
      "cell_type": "code",
      "source": [
        "# input an array\n",
        "input_array = np.array([1,2,3])\n",
        "exp_array = np.exp(input_array)\n",
        "\n",
        "print(f\"Input to exp: {input_array}\")\n",
        "print(f\"Output of exp: {exp_array}\")\n",
        "\n",
        "# input a single value\n",
        "input_val = 1\n",
        "exp_val = np.exp(input_val)\n",
        "\n",
        "print(f\"Input to exp: {input_val}\")\n",
        "print(f\"Output of exp: {exp_val}\")"
      ],
      "metadata": {
        "colab": {
          "base_uri": "https://localhost:8080/"
        },
        "id": "xa31G87ZnAXi",
        "outputId": "67ed5a2c-7f14-4d4c-b86c-5d3aa443b8c4"
      },
      "execution_count": 3,
      "outputs": [
        {
          "output_type": "stream",
          "name": "stdout",
          "text": [
            "Input to exp: [1 2 3]\n",
            "Output of exp: [ 2.71828183  7.3890561  20.08553692]\n",
            "Input to exp: 1\n",
            "Output of exp: 2.718281828459045\n"
          ]
        }
      ]
    },
    {
      "cell_type": "code",
      "source": [
        "# compute the sigmoid of z\n",
        "def sigmoid(z):\n",
        "  return 1/(1+np.exp(-z))"
      ],
      "metadata": {
        "id": "XCvaBW9Rn4j1"
      },
      "execution_count": 4,
      "outputs": []
    },
    {
      "cell_type": "code",
      "source": [
        "# generate an array of evenly spaced values between -10 and 10\n",
        "z_tmp = np.arange(-10, 11)\n",
        "\n",
        "# use the function implemented above to get the sigmoid values\n",
        "y = sigmoid(z_tmp)\n",
        "\n",
        "# print two arrays next to each other\n",
        "np.set_printoptions(precision=3)\n",
        "print(\"Input (z), output (sigmoid(z))\")\n",
        "print(np.c_[z_tmp, y])"
      ],
      "metadata": {
        "colab": {
          "base_uri": "https://localhost:8080/"
        },
        "id": "A0NYYG3SoItP",
        "outputId": "67502c85-8b79-4e63-d422-154027c49200"
      },
      "execution_count": 5,
      "outputs": [
        {
          "output_type": "stream",
          "name": "stdout",
          "text": [
            "Input (z), output (sigmoid(z))\n",
            "[[-1.000e+01  4.540e-05]\n",
            " [-9.000e+00  1.234e-04]\n",
            " [-8.000e+00  3.354e-04]\n",
            " [-7.000e+00  9.111e-04]\n",
            " [-6.000e+00  2.473e-03]\n",
            " [-5.000e+00  6.693e-03]\n",
            " [-4.000e+00  1.799e-02]\n",
            " [-3.000e+00  4.743e-02]\n",
            " [-2.000e+00  1.192e-01]\n",
            " [-1.000e+00  2.689e-01]\n",
            " [ 0.000e+00  5.000e-01]\n",
            " [ 1.000e+00  7.311e-01]\n",
            " [ 2.000e+00  8.808e-01]\n",
            " [ 3.000e+00  9.526e-01]\n",
            " [ 4.000e+00  9.820e-01]\n",
            " [ 5.000e+00  9.933e-01]\n",
            " [ 6.000e+00  9.975e-01]\n",
            " [ 7.000e+00  9.991e-01]\n",
            " [ 8.000e+00  9.997e-01]\n",
            " [ 9.000e+00  9.999e-01]\n",
            " [ 1.000e+01  1.000e+00]]\n"
          ]
        }
      ]
    },
    {
      "cell_type": "code",
      "source": [
        "# draw a threshold at 0.5\n",
        "def draw_vthresh(ax,x):\n",
        "    \"\"\" draws a threshold \"\"\"\n",
        "    ylim = ax.get_ylim()\n",
        "    xlim = ax.get_xlim()\n",
        "    ax.fill_between([xlim[0], x], [ylim[1], ylim[1]], alpha=0.2, color='blue')\n",
        "    ax.fill_between([x, xlim[1]], [ylim[1], ylim[1]], alpha=0.2, color='darkred')\n",
        "    ax.annotate(\"z >= 0\", xy= [x,0.5], xycoords='data',xytext=[30,5],textcoords='offset points')\n",
        "    d = FancyArrowPatch(posA=(x, 0.5), posB=(x+3, 0.5), color='darkred',arrowstyle='simple, head_width=5, head_length=10, tail_width=0.0',)\n",
        "    ax.add_artist(d)\n",
        "    ax.annotate(\"z < 0\", xy= [x,0.5], xycoords='data',xytext=[-50,5],textcoords='offset points', ha='left')\n",
        "    f = FancyArrowPatch(posA=(x, 0.5), posB=(x-3, 0.5), color='blue',arrowstyle='simple, head_width=5, head_length=10, tail_width=0.0',)\n",
        "    ax.add_artist(f)"
      ],
      "metadata": {
        "id": "iCRvwvIgqIsl"
      },
      "execution_count": 19,
      "outputs": []
    },
    {
      "cell_type": "code",
      "source": [
        "# plot z vs sigmoid(z)\n",
        "fig, ax = plt.subplots(1,1, figsize=(5,3))\n",
        "ax.plot(z_tmp, y, c='b')\n",
        "\n",
        "ax.set_title(\"Sigmoid function\")\n",
        "ax.set_ylabel(\"Sigmoid(z)\")\n",
        "ax.set_xlabel(\"z\")\n",
        "draw_vthresh(ax, 0)"
      ],
      "metadata": {
        "colab": {
          "base_uri": "https://localhost:8080/",
          "height": 333
        },
        "id": "xGH-C4Ygo5V_",
        "outputId": "ac69c06c-630c-4e10-f096-a768609f9b45"
      },
      "execution_count": 23,
      "outputs": [
        {
          "output_type": "display_data",
          "data": {
            "text/plain": [
              "<Figure size 500x300 with 1 Axes>"
            ],
            "image/png": "[encoded data removed]"
          },
          "metadata": {}
        }
      ]
    }
  ]
}